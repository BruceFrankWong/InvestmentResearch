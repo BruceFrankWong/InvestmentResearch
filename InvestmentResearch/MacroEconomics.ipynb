{
 "cells": [
  {
   "cell_type": "code",
   "execution_count": 1,
   "id": "f9c49d47",
   "metadata": {},
   "outputs": [
    {
     "name": "stdout",
     "output_type": "stream",
     "text": [
      "MatPlotLib version: 3.4.2\n",
      "Pandas version: 1.2.4\n"
     ]
    }
   ],
   "source": [
    "# This allows multiple outputs from a single jupyter notebook cell:\n",
    "from IPython.core.interactiveshell import InteractiveShell\n",
    "InteractiveShell.ast_node_interactivity = \"all\"\n",
    "\n",
    "%matplotlib inline\n",
    "import matplotlib as mpl\n",
    "import pandas as pd\n",
    "\n",
    "print(f'MatPlotLib version: {mpl.__version__}\\nPandas version: {pd.__version__}')"
   ]
  },
  {
   "cell_type": "code",
   "execution_count": null,
   "id": "3a65f0de",
   "metadata": {},
   "outputs": [],
   "source": [
    "# Data or model."
   ]
  },
  {
   "cell_type": "code",
   "execution_count": null,
   "id": "e1867d6d",
   "metadata": {},
   "outputs": [],
   "source": [
    "# Plot.\n",
    "figure = plt.figure()\n"
   ]
  }
 ],
 "metadata": {
  "kernelspec": {
   "display_name": "Python 3",
   "language": "python",
   "name": "python3"
  },
  "language_info": {
   "codemirror_mode": {
    "name": "ipython",
    "version": 3
   },
   "file_extension": ".py",
   "mimetype": "text/x-python",
   "name": "python",
   "nbconvert_exporter": "python",
   "pygments_lexer": "ipython3",
   "version": "3.8.9"
  }
 },
 "nbformat": 4,
 "nbformat_minor": 5
}
